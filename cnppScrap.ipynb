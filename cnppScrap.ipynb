{
 "cells": [
  {
   "cell_type": "code",
   "execution_count": 11,
   "metadata": {},
   "outputs": [],
   "source": [
    "import requests\n",
    "from bs4 import BeautifulSoup\n",
    "import pandas as pd\n",
    "import time"
   ]
  },
  {
   "cell_type": "code",
   "execution_count": 12,
   "metadata": {},
   "outputs": [],
   "source": [
    "def extract_brand_info(response, category_name):\n",
    "    # Parse the HTML content\n",
    "    soup = BeautifulSoup(response.text, 'html.parser')\n",
    "    \n",
    "    # Initialize a dictionary to store details under the provided category name\n",
    "    brand_info_category = {category_name: []}\n",
    "    \n",
    "    # Find all brandname elements\n",
    "    brand_names = soup.find_all('div', class_='branddesc')\n",
    "\n",
    "    # Iterate over each brand block\n",
    "    for brand in brand_names:\n",
    "        try:\n",
    "            # Extract the brand name and company\n",
    "            marca = brand.find('span', class_='color4').text.strip()\n",
    "            company = brand.find('span', class_='c666').text.strip()\n",
    "\n",
    "            # Find the corresponding brandinfo section\n",
    "            brand_intro = brand.find('div', class_='history').text.strip()\n",
    "            brand_info = brand.find_next_sibling('div', class_='brandinfo font15')\n",
    "            \n",
    "            # Extract the relevant details\n",
    "            legal_representative = brand_info.find('div', class_='c999 brandfaren').find('span', class_='color2').text.strip()\n",
    "            registered_capital = brand_info.find('div', class_='c999 brandziben').find('span', class_='color2').text.strip()\n",
    "            foundation_date = brand_info.find('div', class_='c999 brandtime').find('span', class_='color2').text.strip()\n",
    "            \n",
    "            # Create a dictionary with the extracted information\n",
    "            brand_details = {\n",
    "                'brand_name': marca,\n",
    "                'company_name': company,\n",
    "                'legal_representative': legal_representative,\n",
    "                'registered_capital': registered_capital,\n",
    "                'foundation_date': foundation_date,\n",
    "                'brand_intro': brand_intro\n",
    "            }\n",
    "            \n",
    "            # Add the brand details to the specified category list\n",
    "            brand_info_category[category_name].append(brand_details)\n",
    "        \n",
    "        except AttributeError:\n",
    "            # Handle cases where the information might be missing or the structure is different\n",
    "            continue\n",
    "    \n",
    "    return brand_info_category"
   ]
  },
  {
   "cell_type": "code",
   "execution_count": 13,
   "metadata": {},
   "outputs": [],
   "source": [
    "def fetch_url_with_retries(url, retries=3, delay=5):\n",
    "    for attempt in range(retries):\n",
    "        try:\n",
    "            response = requests.get(url, timeout=10)\n",
    "            if response.status_code == 200:\n",
    "                return response\n",
    "            else:\n",
    "                print(f\"Attempt {attempt + 1} failed: Status code {response.status_code}\")\n",
    "        except requests.exceptions.RequestException as e:\n",
    "            print(f\"Attempt {attempt + 1} failed: {e}\")\n",
    "        \n",
    "        time.sleep(delay)\n",
    "    \n",
    "    return None"
   ]
  },
  {
   "cell_type": "code",
   "execution_count": 14,
   "metadata": {},
   "outputs": [],
   "source": [
    "def process_urls_from_csv(csv_file, output_excel='brand_info.xlsx'):\n",
    "    # Read the CSV file to get the URLs and categories\n",
    "    urls_df = pd.read_csv(csv_file)\n",
    "    \n",
    "    # Initialize an empty list to store all brand information\n",
    "    all_data = []\n",
    "    \n",
    "    # Iterate over each URL and category in the CSV\n",
    "    for index, row in urls_df.iterrows():\n",
    "        url = row['url']\n",
    "        category = row['category']  # The specific category for this URL\n",
    "        \n",
    "        # Fetch the HTML content from the URL with retries\n",
    "        response = fetch_url_with_retries(url)\n",
    "        \n",
    "        if response:\n",
    "            # Extract brand information for this URL under the specified category\n",
    "            brand_info_category = extract_brand_info(response, category)\n",
    "            \n",
    "            # Add category name and URL to the extracted data\n",
    "            for brand in brand_info_category[category]:\n",
    "                brand['category'] = category\n",
    "                brand['url'] = url\n",
    "                all_data.append(brand)\n",
    "        else:\n",
    "            print(f\"Failed to retrieve the webpage at {url} after multiple attempts.\")\n",
    "    \n",
    "    # Save all the collected data to an Excel file\n",
    "    save_to_excel(all_data, output_excel)\n",
    "\n",
    "def save_to_excel(data, file_name='brand_info.xlsx'):\n",
    "    # Convert the list of dictionaries to a DataFrame\n",
    "    df = pd.DataFrame(data)\n",
    "    \n",
    "    # Save the DataFrame to an Excel file\n",
    "    df.to_excel(file_name, index=False)\n",
    "    \n",
    "    print(f\"Data saved to {file_name}\")"
   ]
  },
  {
   "cell_type": "code",
   "execution_count": null,
   "metadata": {},
   "outputs": [],
   "source": [
    "# Process URLs from the CSV file\n",
    "process_urls_from_csv('urls.csv')\n"
   ]
  }
 ],
 "metadata": {
  "kernelspec": {
   "display_name": "Python 3",
   "language": "python",
   "name": "python3"
  },
  "language_info": {
   "codemirror_mode": {
    "name": "ipython",
    "version": 3
   },
   "file_extension": ".py",
   "mimetype": "text/x-python",
   "name": "python",
   "nbconvert_exporter": "python",
   "pygments_lexer": "ipython3",
   "version": "3.10.12"
  }
 },
 "nbformat": 4,
 "nbformat_minor": 2
}
